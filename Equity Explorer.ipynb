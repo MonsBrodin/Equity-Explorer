{
 "cells": [
  {
   "cell_type": "markdown",
   "id": "deebd4c0-1d32-4063-9bb6-317f97dcccb0",
   "metadata": {},
   "source": [
    "# Equity Explorer - Multi-Stock Comparison Tool"
   ]
  },
  {
   "cell_type": "code",
   "execution_count": 1,
   "id": "b4619fdf-df2f-4113-811f-a40f24b0d50c",
   "metadata": {},
   "outputs": [
    {
     "data": {
      "application/vnd.jupyter.widget-view+json": {
       "model_id": "3cb56b2272134dd2b76903e2313c8142",
       "version_major": 2,
       "version_minor": 0
      },
      "text/plain": [
       "Text(value='AAPL, MSFT, TSLA', description='Tickers:', layout=Layout(width='70%'), placeholder='Enter tickers …"
      ]
     },
     "metadata": {},
     "output_type": "display_data"
    },
    {
     "data": {
      "application/vnd.jupyter.widget-view+json": {
       "model_id": "3c93a4b245b948d59db19c5c998f1678",
       "version_major": 2,
       "version_minor": 0
      },
      "text/plain": [
       "IntSlider(value=2010, description='Start Year:', max=2024, min=2000, style=SliderStyle(description_width='init…"
      ]
     },
     "metadata": {},
     "output_type": "display_data"
    },
    {
     "data": {
      "application/vnd.jupyter.widget-view+json": {
       "model_id": "f6d5a88e851040928794086692b94299",
       "version_major": 2,
       "version_minor": 0
      },
      "text/plain": [
       "Button(button_style='success', description='📊 Run Analysis', layout=Layout(width='200px'), style=ButtonStyle()…"
      ]
     },
     "metadata": {},
     "output_type": "display_data"
    },
    {
     "data": {
      "application/vnd.jupyter.widget-view+json": {
       "model_id": "f7978549327247c0afca2516f1c90cbf",
       "version_major": 2,
       "version_minor": 0
      },
      "text/plain": [
       "Dropdown(description='Export as:', layout=Layout(width='200px'), options=('CSV', 'xlsx'), style=DescriptionSty…"
      ]
     },
     "metadata": {},
     "output_type": "display_data"
    },
    {
     "data": {
      "application/vnd.jupyter.widget-view+json": {
       "model_id": "affb5edb155e44e997ab95484775fda7",
       "version_major": 2,
       "version_minor": 0
      },
      "text/plain": [
       "Button(button_style='info', description='💾 Export', layout=Layout(width='200px'), style=ButtonStyle())"
      ]
     },
     "metadata": {},
     "output_type": "display_data"
    },
    {
     "data": {
      "application/vnd.jupyter.widget-view+json": {
       "model_id": "6a200cfa2de64b679116d55f11994c07",
       "version_major": 2,
       "version_minor": 0
      },
      "text/plain": [
       "Output()"
      ]
     },
     "metadata": {},
     "output_type": "display_data"
    }
   ],
   "source": [
    "# yfinance for data\n",
    "import yfinance as yf\n",
    "\n",
    "# pandas for data handling\n",
    "import pandas as pd\n",
    "\n",
    "# matplotlib.pyplot for visualisation\n",
    "import matplotlib.pyplot as plt\n",
    "\n",
    "# ipywidgets and display for interactivity\n",
    "import ipywidgets as widgets\n",
    "from IPython.display import display, clear_output\n",
    "\n",
    "# Output area for results\n",
    "output_area = widgets.Output()\n",
    "\n",
    "# Let the user choose tickers and starting year\n",
    "ticker_input = widgets.Text(\n",
    "    value='AAPL, MSFT, TSLA',\n",
    "    placeholder='Enter tickers separated by commas',\n",
    "    description='Tickers:',\n",
    "    style={'description_width': 'initial'},\n",
    "    layout=widgets.Layout(width='70%')\n",
    ")\n",
    "\n",
    "year_slider = widgets.IntSlider(\n",
    "    value=2010,\n",
    "    min=2000,\n",
    "    max=2024,\n",
    "    step=1,\n",
    "    description='Start Year:',\n",
    "    style={'description_width': 'initial'}\n",
    ")\n",
    "\n",
    "run_button = widgets.Button(\n",
    "    description='📊 Run Analysis',\n",
    "    button_style='success',\n",
    "    layout=widgets.Layout(width='200px')\n",
    ")\n",
    "\n",
    "# Display everything including output space\n",
    "format_dropdown = widgets.Dropdown(\n",
    "    options=['CSV', 'xlsx'],\n",
    "    value='CSV',\n",
    "    description='Export as:',\n",
    "    style={'description_width': 'initial'},\n",
    "    layout=widgets.Layout(width='200px')\n",
    ")\n",
    "\n",
    "export_button = widgets.Button(\n",
    "    description='💾 Export',\n",
    "    button_style='info',\n",
    "    layout=widgets.Layout(width='200px')\n",
    ")\n",
    "\n",
    "display(ticker_input, year_slider, run_button, format_dropdown, export_button, output_area)\n"
   ]
  },
  {
   "cell_type": "code",
   "execution_count": 3,
   "id": "1c216295-9929-41b0-a2ee-e111132fa328",
   "metadata": {},
   "outputs": [],
   "source": [
    "# grab the historical stock prices (\"Close\") and rebase them starting at 100\n",
    "# also removes missing values (dropna)\n",
    "\n",
    "def run_analysis(button=None):\n",
    "    with output_area:\n",
    "        clear_output()\n",
    "\n",
    "        global price_data  # 👈 This lets the export button use the latest version\n",
    "        tickers = [t.strip().upper() for t in ticker_input.value.split(\",\")]\n",
    "        start_date = f\"{year_slider.value}-01-01\"\n",
    "\n",
    "        price_data = pd.DataFrame()\n",
    "\n",
    "        for ticker in tickers:\n",
    "            stock = yf.Ticker(ticker)\n",
    "            hist = stock.history(start=start_date)[\"Close\"].dropna()\n",
    "\n",
    "            if len(hist) < 1000:\n",
    "                print(f\"{ticker}: insufficient data – skipped.\")\n",
    "                continue\n",
    "\n",
    "            norm = hist / hist.iloc[0] * 100\n",
    "            price_data[ticker] = norm\n",
    "\n",
    "        if price_data.empty:\n",
    "            print(\"No valid data for selected tickers.\")\n",
    "            return\n",
    "\n",
    "        n_years = (price_data.index[-1] - price_data.index[0]).days / 365.25\n",
    "\n",
    "        cagr_text = \"\"\n",
    "        for ticker in price_data.columns:\n",
    "            start_val = price_data[ticker].iloc[0]\n",
    "            end_val = price_data[ticker].iloc[-1]\n",
    "            cagr = (end_val / start_val) ** (1 / n_years) - 1\n",
    "            cagr_text += f\"{ticker}: {cagr:.2%}\\n\"\n",
    "\n",
    "        percent_data = price_data - 100\n",
    "\n",
    "        plt.figure(figsize=(10, 5))\n",
    "        for col in percent_data.columns:\n",
    "            plt.plot(percent_data.index, percent_data[col], label=col)\n",
    "\n",
    "        plt.title(\"Stock Returns Since Start Date\")\n",
    "        plt.xlabel(\"Date\")\n",
    "        plt.ylabel(\"Total Return (%)\")\n",
    "        plt.axhline(0, color=\"gray\", linestyle=\"--\", linewidth=1)\n",
    "        plt.gca().yaxis.set_major_formatter(plt.FuncFormatter(lambda y, _: f'{y:.0f}%'))\n",
    "\n",
    "        plt.text(\n",
    "            x=percent_data.index[int(len(percent_data) * 0.1)],\n",
    "            y=percent_data.max().max() * 0.85,\n",
    "            s=cagr_text,\n",
    "            fontsize=10,\n",
    "            bbox=dict(facecolor=\"white\", edgecolor=\"gray\", boxstyle=\"round,pad=0.5\")\n",
    "        )\n",
    "\n",
    "        plt.legend()\n",
    "        plt.grid(True)\n",
    "        plt.tight_layout()\n",
    "        plt.show()"
   ]
  },
  {
   "cell_type": "code",
   "execution_count": 5,
   "id": "bb10e58a-0946-4673-8657-bb8dfa0fac39",
   "metadata": {},
   "outputs": [],
   "source": [
    "run_button.on_click(run_analysis)"
   ]
  },
  {
   "cell_type": "code",
   "execution_count": 7,
   "id": "5121a314-0dd4-474f-8734-32434fdc91d9",
   "metadata": {},
   "outputs": [],
   "source": [
    "def export_data(button=None):\n",
    "    with output_area:\n",
    "        if 'price_data' not in globals():\n",
    "            print(\"❌ No data available. Please run the analysis first.\")\n",
    "            return\n",
    "\n",
    "        # Remove timezone info from the index\n",
    "        export_df = price_data.copy()\n",
    "        export_df.index = export_df.index.tz_localize(None)\n",
    "\n",
    "        filename_base = f\"stock_returns_{year_slider.value}\"\n",
    "        if format_dropdown.value == 'CSV':\n",
    "            export_df.to_csv(f\"{filename_base}.csv\")\n",
    "            print(f\"✅ Data exported as {filename_base}.csv\")\n",
    "        else:\n",
    "            export_df.to_excel(f\"{filename_base}.xlsx\")\n",
    "            print(f\"✅ Data exported as {filename_base}.xlsx\")\n",
    "# Remove old handlers first (if any)\n",
    "export_button._click_handlers.callbacks.clear()\n",
    "\n",
    "# Then attach the function\n",
    "export_button.on_click(export_data)"
   ]
  },
  {
   "cell_type": "code",
   "execution_count": null,
   "id": "7984d6e1-7608-4a94-98f1-dc58ba3b1200",
   "metadata": {},
   "outputs": [],
   "source": []
  }
 ],
 "metadata": {
  "kernelspec": {
   "display_name": "Python [conda env:base] *",
   "language": "python",
   "name": "conda-base-py"
  },
  "language_info": {
   "codemirror_mode": {
    "name": "ipython",
    "version": 3
   },
   "file_extension": ".py",
   "mimetype": "text/x-python",
   "name": "python",
   "nbconvert_exporter": "python",
   "pygments_lexer": "ipython3",
   "version": "3.12.3"
  }
 },
 "nbformat": 4,
 "nbformat_minor": 5
}
